{
 "cells": [
  {
   "cell_type": "markdown",
   "metadata": {},
   "source": [
    "# I. Define the Problem\n",
    "For this small project I am going to analyze characteristics of auto insurance claims. We want to build a model to predict the 'Location_Code' of a customer based on these characteristics."
   ]
  },
  {
   "cell_type": "markdown",
   "metadata": {},
   "source": [
    "# II. Collect the Data\n",
    "First thing we need to do is get that data into our environment quickly. Importing flat files using the Pandas package is considered the standard and best practice approach in Python."
   ]
  },
  {
   "cell_type": "code",
   "execution_count": 65,
   "metadata": {},
   "outputs": [
    {
     "name": "stdout",
     "output_type": "stream",
     "text": [
      "Auto_Insurance_Claims_Sample.csv successfully loaded.\n"
     ]
    }
   ],
   "source": [
    "# Import Python Libraries\n",
    "import pandas as pd                               # for structured data operations and manipulations\n",
    "import numpy as np                                # for scientific computing \n",
    "from sklearn.preprocessing import LabelEncoder    # for mapping categorical data to a numeric value\n",
    "from sklearn.preprocessing import OneHotEncoder\n",
    "import seaborn as sns\n",
    "import matplotlib.pyplot as plt\n",
    "from pandas.plotting import scatter_matrix\n",
    "\n",
    "# Sets the number of max columns shown\n",
    "pd.set_option('display.max_columns', None) \n",
    "\n",
    "filename = 'Auto_Insurance_Claims_Sample.csv'\n",
    "df_autoclaims = pd.read_csv(filename)\n",
    "print(filename + ' successfully loaded.')"
   ]
  },
  {
   "cell_type": "markdown",
   "metadata": {},
   "source": [
    "# III. Cleanse the Data\n",
    "It is common to complete some data cleansing or wrangling processes up font before we being to explore our data, as well as during our data exploration as we learn more about our data. Data cleansing is important to make sure our data is in a format and structure that can be easily consumed by our analysis and models. This might include task such as checking for proper data types and converting data to correct data types/formats when needed. This can also involve stripping characters from the strings. There might also be some missing values in the dataset that need to be handled by adding or deleting some values.\n",
    "\n",
    "So let's preview the data we loaded and see if there is any data cleansing needed to add more value to this dataset initially. We will take a quick look at the first 5 and last 5 rows of our dataframe."
   ]
  },
  {
   "cell_type": "code",
   "execution_count": 3,
   "metadata": {},
   "outputs": [
    {
     "data": {
      "text/html": [
       "<div>\n",
       "<style scoped>\n",
       "    .dataframe tbody tr th:only-of-type {\n",
       "        vertical-align: middle;\n",
       "    }\n",
       "\n",
       "    .dataframe tbody tr th {\n",
       "        vertical-align: top;\n",
       "    }\n",
       "\n",
       "    .dataframe thead th {\n",
       "        text-align: right;\n",
       "    }\n",
       "</style>\n",
       "<table border=\"1\" class=\"dataframe\">\n",
       "  <thead>\n",
       "    <tr style=\"text-align: right;\">\n",
       "      <th></th>\n",
       "      <th>Customer</th>\n",
       "      <th>Country</th>\n",
       "      <th>State_Code</th>\n",
       "      <th>State</th>\n",
       "      <th>Claim_Amount</th>\n",
       "      <th>Response</th>\n",
       "      <th>Coverage</th>\n",
       "      <th>Education</th>\n",
       "      <th>Effective_To_Date</th>\n",
       "      <th>Employment_Status</th>\n",
       "      <th>Gender</th>\n",
       "      <th>Income</th>\n",
       "      <th>Location_Code</th>\n",
       "      <th>Marital_Status</th>\n",
       "      <th>Monthly_Premium_Auto</th>\n",
       "      <th>Months_Since_Last_Claim</th>\n",
       "      <th>Months_Since_Policy_Inception</th>\n",
       "      <th>Number_of_Open_Complaints</th>\n",
       "      <th>Number_of_Policies</th>\n",
       "      <th>Policy_Type</th>\n",
       "      <th>Policy</th>\n",
       "      <th>Claim_Reason</th>\n",
       "      <th>Sales_Channel</th>\n",
       "      <th>Total_Claim_Amount</th>\n",
       "      <th>Vehicle_Class</th>\n",
       "      <th>Vehicle_Size</th>\n",
       "    </tr>\n",
       "  </thead>\n",
       "  <tbody>\n",
       "    <tr>\n",
       "      <th>0</th>\n",
       "      <td>BU79786</td>\n",
       "      <td>US</td>\n",
       "      <td>KS</td>\n",
       "      <td>Kansas</td>\n",
       "      <td>276.351928</td>\n",
       "      <td>No</td>\n",
       "      <td>Basic</td>\n",
       "      <td>Bachelor</td>\n",
       "      <td>2/24/2011</td>\n",
       "      <td>Employed</td>\n",
       "      <td>F</td>\n",
       "      <td>56274</td>\n",
       "      <td>Suburban</td>\n",
       "      <td>Married</td>\n",
       "      <td>69</td>\n",
       "      <td>32</td>\n",
       "      <td>5</td>\n",
       "      <td>0</td>\n",
       "      <td>1</td>\n",
       "      <td>Corporate Auto</td>\n",
       "      <td>Corporate L3</td>\n",
       "      <td>Collision</td>\n",
       "      <td>Agent</td>\n",
       "      <td>384.811147</td>\n",
       "      <td>Two-Door Car</td>\n",
       "      <td>Medsize</td>\n",
       "    </tr>\n",
       "    <tr>\n",
       "      <th>1</th>\n",
       "      <td>QZ44356</td>\n",
       "      <td>US</td>\n",
       "      <td>NE</td>\n",
       "      <td>Nebraska</td>\n",
       "      <td>697.953590</td>\n",
       "      <td>No</td>\n",
       "      <td>Extended</td>\n",
       "      <td>Bachelor</td>\n",
       "      <td>1/31/2011</td>\n",
       "      <td>Unemployed</td>\n",
       "      <td>F</td>\n",
       "      <td>0</td>\n",
       "      <td>Suburban</td>\n",
       "      <td>Single</td>\n",
       "      <td>94</td>\n",
       "      <td>13</td>\n",
       "      <td>42</td>\n",
       "      <td>0</td>\n",
       "      <td>8</td>\n",
       "      <td>Personal Auto</td>\n",
       "      <td>Personal L3</td>\n",
       "      <td>Scratch/Dent</td>\n",
       "      <td>Agent</td>\n",
       "      <td>1131.464935</td>\n",
       "      <td>Four-Door Car</td>\n",
       "      <td>Medsize</td>\n",
       "    </tr>\n",
       "    <tr>\n",
       "      <th>2</th>\n",
       "      <td>AI49188</td>\n",
       "      <td>US</td>\n",
       "      <td>OK</td>\n",
       "      <td>Oklahoma</td>\n",
       "      <td>1288.743165</td>\n",
       "      <td>No</td>\n",
       "      <td>Premium</td>\n",
       "      <td>Bachelor</td>\n",
       "      <td>2/19/2011</td>\n",
       "      <td>Employed</td>\n",
       "      <td>F</td>\n",
       "      <td>48767</td>\n",
       "      <td>Suburban</td>\n",
       "      <td>Married</td>\n",
       "      <td>108</td>\n",
       "      <td>18</td>\n",
       "      <td>38</td>\n",
       "      <td>0</td>\n",
       "      <td>2</td>\n",
       "      <td>Personal Auto</td>\n",
       "      <td>Personal L3</td>\n",
       "      <td>Collision</td>\n",
       "      <td>Agent</td>\n",
       "      <td>566.472247</td>\n",
       "      <td>Two-Door Car</td>\n",
       "      <td>Medsize</td>\n",
       "    </tr>\n",
       "    <tr>\n",
       "      <th>3</th>\n",
       "      <td>WW63253</td>\n",
       "      <td>US</td>\n",
       "      <td>MO</td>\n",
       "      <td>Missouri</td>\n",
       "      <td>764.586183</td>\n",
       "      <td>No</td>\n",
       "      <td>Basic</td>\n",
       "      <td>Bachelor</td>\n",
       "      <td>1/20/2011</td>\n",
       "      <td>Unemployed</td>\n",
       "      <td>M</td>\n",
       "      <td>0</td>\n",
       "      <td>Suburban</td>\n",
       "      <td>Married</td>\n",
       "      <td>106</td>\n",
       "      <td>18</td>\n",
       "      <td>65</td>\n",
       "      <td>0</td>\n",
       "      <td>7</td>\n",
       "      <td>Corporate Auto</td>\n",
       "      <td>Corporate L2</td>\n",
       "      <td>Collision</td>\n",
       "      <td>Call Center</td>\n",
       "      <td>529.881344</td>\n",
       "      <td>SUV</td>\n",
       "      <td>Medsize</td>\n",
       "    </tr>\n",
       "    <tr>\n",
       "      <th>4</th>\n",
       "      <td>HB64268</td>\n",
       "      <td>US</td>\n",
       "      <td>KS</td>\n",
       "      <td>Kansas</td>\n",
       "      <td>281.369258</td>\n",
       "      <td>No</td>\n",
       "      <td>Basic</td>\n",
       "      <td>Bachelor</td>\n",
       "      <td>2/3/2011</td>\n",
       "      <td>Employed</td>\n",
       "      <td>M</td>\n",
       "      <td>43836</td>\n",
       "      <td>Rural</td>\n",
       "      <td>Single</td>\n",
       "      <td>73</td>\n",
       "      <td>12</td>\n",
       "      <td>44</td>\n",
       "      <td>0</td>\n",
       "      <td>1</td>\n",
       "      <td>Personal Auto</td>\n",
       "      <td>Personal L1</td>\n",
       "      <td>Collision</td>\n",
       "      <td>Agent</td>\n",
       "      <td>138.130879</td>\n",
       "      <td>Four-Door Car</td>\n",
       "      <td>Medsize</td>\n",
       "    </tr>\n",
       "  </tbody>\n",
       "</table>\n",
       "</div>"
      ],
      "text/plain": [
       "  Customer Country State_Code     State  Claim_Amount Response  Coverage  \\\n",
       "0  BU79786      US         KS    Kansas    276.351928       No     Basic   \n",
       "1  QZ44356      US         NE  Nebraska    697.953590       No  Extended   \n",
       "2  AI49188      US         OK  Oklahoma   1288.743165       No   Premium   \n",
       "3  WW63253      US         MO  Missouri    764.586183       No     Basic   \n",
       "4  HB64268      US         KS    Kansas    281.369258       No     Basic   \n",
       "\n",
       "  Education Effective_To_Date Employment_Status Gender  Income Location_Code  \\\n",
       "0  Bachelor         2/24/2011          Employed      F   56274      Suburban   \n",
       "1  Bachelor         1/31/2011        Unemployed      F       0      Suburban   \n",
       "2  Bachelor         2/19/2011          Employed      F   48767      Suburban   \n",
       "3  Bachelor         1/20/2011        Unemployed      M       0      Suburban   \n",
       "4  Bachelor          2/3/2011          Employed      M   43836         Rural   \n",
       "\n",
       "  Marital_Status  Monthly_Premium_Auto  Months_Since_Last_Claim  \\\n",
       "0        Married                    69                       32   \n",
       "1         Single                    94                       13   \n",
       "2        Married                   108                       18   \n",
       "3        Married                   106                       18   \n",
       "4         Single                    73                       12   \n",
       "\n",
       "   Months_Since_Policy_Inception  Number_of_Open_Complaints  \\\n",
       "0                              5                          0   \n",
       "1                             42                          0   \n",
       "2                             38                          0   \n",
       "3                             65                          0   \n",
       "4                             44                          0   \n",
       "\n",
       "   Number_of_Policies     Policy_Type        Policy  Claim_Reason  \\\n",
       "0                   1  Corporate Auto  Corporate L3     Collision   \n",
       "1                   8   Personal Auto   Personal L3  Scratch/Dent   \n",
       "2                   2   Personal Auto   Personal L3     Collision   \n",
       "3                   7  Corporate Auto  Corporate L2     Collision   \n",
       "4                   1   Personal Auto   Personal L1     Collision   \n",
       "\n",
       "  Sales_Channel  Total_Claim_Amount  Vehicle_Class Vehicle_Size  \n",
       "0         Agent          384.811147   Two-Door Car      Medsize  \n",
       "1         Agent         1131.464935  Four-Door Car      Medsize  \n",
       "2         Agent          566.472247   Two-Door Car      Medsize  \n",
       "3   Call Center          529.881344            SUV      Medsize  \n",
       "4         Agent          138.130879  Four-Door Car      Medsize  "
      ]
     },
     "execution_count": 3,
     "metadata": {},
     "output_type": "execute_result"
    }
   ],
   "source": [
    "df_autoclaims.head()"
   ]
  },
  {
   "cell_type": "code",
   "execution_count": 4,
   "metadata": {},
   "outputs": [
    {
     "data": {
      "text/html": [
       "<div>\n",
       "<style scoped>\n",
       "    .dataframe tbody tr th:only-of-type {\n",
       "        vertical-align: middle;\n",
       "    }\n",
       "\n",
       "    .dataframe tbody tr th {\n",
       "        vertical-align: top;\n",
       "    }\n",
       "\n",
       "    .dataframe thead th {\n",
       "        text-align: right;\n",
       "    }\n",
       "</style>\n",
       "<table border=\"1\" class=\"dataframe\">\n",
       "  <thead>\n",
       "    <tr style=\"text-align: right;\">\n",
       "      <th></th>\n",
       "      <th>Customer</th>\n",
       "      <th>Country</th>\n",
       "      <th>State_Code</th>\n",
       "      <th>State</th>\n",
       "      <th>Claim_Amount</th>\n",
       "      <th>Response</th>\n",
       "      <th>Coverage</th>\n",
       "      <th>Education</th>\n",
       "      <th>Effective_To_Date</th>\n",
       "      <th>Employment_Status</th>\n",
       "      <th>Gender</th>\n",
       "      <th>Income</th>\n",
       "      <th>Location_Code</th>\n",
       "      <th>Marital_Status</th>\n",
       "      <th>Monthly_Premium_Auto</th>\n",
       "      <th>Months_Since_Last_Claim</th>\n",
       "      <th>Months_Since_Policy_Inception</th>\n",
       "      <th>Number_of_Open_Complaints</th>\n",
       "      <th>Number_of_Policies</th>\n",
       "      <th>Policy_Type</th>\n",
       "      <th>Policy</th>\n",
       "      <th>Claim_Reason</th>\n",
       "      <th>Sales_Channel</th>\n",
       "      <th>Total_Claim_Amount</th>\n",
       "      <th>Vehicle_Class</th>\n",
       "      <th>Vehicle_Size</th>\n",
       "    </tr>\n",
       "  </thead>\n",
       "  <tbody>\n",
       "    <tr>\n",
       "      <th>9129</th>\n",
       "      <td>LA72316</td>\n",
       "      <td>US</td>\n",
       "      <td>MO</td>\n",
       "      <td>Missouri</td>\n",
       "      <td>2340.598798</td>\n",
       "      <td>No</td>\n",
       "      <td>Basic</td>\n",
       "      <td>Bachelor</td>\n",
       "      <td>2/10/2011</td>\n",
       "      <td>Employed</td>\n",
       "      <td>M</td>\n",
       "      <td>71941</td>\n",
       "      <td>Urban</td>\n",
       "      <td>Married</td>\n",
       "      <td>73</td>\n",
       "      <td>18</td>\n",
       "      <td>89</td>\n",
       "      <td>0</td>\n",
       "      <td>2</td>\n",
       "      <td>Personal Auto</td>\n",
       "      <td>Personal L1</td>\n",
       "      <td>Hail</td>\n",
       "      <td>Web</td>\n",
       "      <td>198.234764</td>\n",
       "      <td>Four-Door Car</td>\n",
       "      <td>Medsize</td>\n",
       "    </tr>\n",
       "    <tr>\n",
       "      <th>9130</th>\n",
       "      <td>PK87824</td>\n",
       "      <td>US</td>\n",
       "      <td>MO</td>\n",
       "      <td>Missouri</td>\n",
       "      <td>309.651122</td>\n",
       "      <td>Yes</td>\n",
       "      <td>Extended</td>\n",
       "      <td>College</td>\n",
       "      <td>2/12/2011</td>\n",
       "      <td>Employed</td>\n",
       "      <td>F</td>\n",
       "      <td>21604</td>\n",
       "      <td>Suburban</td>\n",
       "      <td>Divorced</td>\n",
       "      <td>79</td>\n",
       "      <td>14</td>\n",
       "      <td>28</td>\n",
       "      <td>0</td>\n",
       "      <td>1</td>\n",
       "      <td>Corporate Auto</td>\n",
       "      <td>Corporate L3</td>\n",
       "      <td>Collision</td>\n",
       "      <td>Branch</td>\n",
       "      <td>379.200000</td>\n",
       "      <td>Four-Door Car</td>\n",
       "      <td>Medsize</td>\n",
       "    </tr>\n",
       "    <tr>\n",
       "      <th>9131</th>\n",
       "      <td>TD14365</td>\n",
       "      <td>US</td>\n",
       "      <td>MO</td>\n",
       "      <td>Missouri</td>\n",
       "      <td>816.389043</td>\n",
       "      <td>No</td>\n",
       "      <td>Extended</td>\n",
       "      <td>Bachelor</td>\n",
       "      <td>2/6/2011</td>\n",
       "      <td>Unemployed</td>\n",
       "      <td>M</td>\n",
       "      <td>0</td>\n",
       "      <td>Suburban</td>\n",
       "      <td>Single</td>\n",
       "      <td>85</td>\n",
       "      <td>9</td>\n",
       "      <td>37</td>\n",
       "      <td>3</td>\n",
       "      <td>2</td>\n",
       "      <td>Corporate Auto</td>\n",
       "      <td>Corporate L2</td>\n",
       "      <td>Collision</td>\n",
       "      <td>Branch</td>\n",
       "      <td>790.784983</td>\n",
       "      <td>Four-Door Car</td>\n",
       "      <td>Medsize</td>\n",
       "    </tr>\n",
       "    <tr>\n",
       "      <th>9132</th>\n",
       "      <td>UP19263</td>\n",
       "      <td>US</td>\n",
       "      <td>MO</td>\n",
       "      <td>Missouri</td>\n",
       "      <td>752.444244</td>\n",
       "      <td>No</td>\n",
       "      <td>Extended</td>\n",
       "      <td>College</td>\n",
       "      <td>2/3/2011</td>\n",
       "      <td>Employed</td>\n",
       "      <td>M</td>\n",
       "      <td>21941</td>\n",
       "      <td>Suburban</td>\n",
       "      <td>Married</td>\n",
       "      <td>96</td>\n",
       "      <td>34</td>\n",
       "      <td>3</td>\n",
       "      <td>0</td>\n",
       "      <td>3</td>\n",
       "      <td>Personal Auto</td>\n",
       "      <td>Personal L2</td>\n",
       "      <td>Scratch/Dent</td>\n",
       "      <td>Branch</td>\n",
       "      <td>691.200000</td>\n",
       "      <td>Four-Door Car</td>\n",
       "      <td>Large</td>\n",
       "    </tr>\n",
       "    <tr>\n",
       "      <th>9133</th>\n",
       "      <td>Y167826</td>\n",
       "      <td>US</td>\n",
       "      <td>MO</td>\n",
       "      <td>Missouri</td>\n",
       "      <td>261.183687</td>\n",
       "      <td>No</td>\n",
       "      <td>Extended</td>\n",
       "      <td>College</td>\n",
       "      <td>2/14/2011</td>\n",
       "      <td>Unemployed</td>\n",
       "      <td>M</td>\n",
       "      <td>0</td>\n",
       "      <td>Suburban</td>\n",
       "      <td>Single</td>\n",
       "      <td>77</td>\n",
       "      <td>3</td>\n",
       "      <td>90</td>\n",
       "      <td>0</td>\n",
       "      <td>1</td>\n",
       "      <td>Corporate Auto</td>\n",
       "      <td>Corporate L3</td>\n",
       "      <td>Other</td>\n",
       "      <td>Call Center</td>\n",
       "      <td>369.600000</td>\n",
       "      <td>Two-Door Car</td>\n",
       "      <td>Medsize</td>\n",
       "    </tr>\n",
       "  </tbody>\n",
       "</table>\n",
       "</div>"
      ],
      "text/plain": [
       "     Customer Country State_Code     State  Claim_Amount Response  Coverage  \\\n",
       "9129  LA72316      US         MO  Missouri   2340.598798       No     Basic   \n",
       "9130  PK87824      US         MO  Missouri    309.651122      Yes  Extended   \n",
       "9131  TD14365      US         MO  Missouri    816.389043       No  Extended   \n",
       "9132  UP19263      US         MO  Missouri    752.444244       No  Extended   \n",
       "9133  Y167826      US         MO  Missouri    261.183687       No  Extended   \n",
       "\n",
       "     Education Effective_To_Date Employment_Status Gender  Income  \\\n",
       "9129  Bachelor         2/10/2011          Employed      M   71941   \n",
       "9130   College         2/12/2011          Employed      F   21604   \n",
       "9131  Bachelor          2/6/2011        Unemployed      M       0   \n",
       "9132   College          2/3/2011          Employed      M   21941   \n",
       "9133   College         2/14/2011        Unemployed      M       0   \n",
       "\n",
       "     Location_Code Marital_Status  Monthly_Premium_Auto  \\\n",
       "9129         Urban        Married                    73   \n",
       "9130      Suburban       Divorced                    79   \n",
       "9131      Suburban         Single                    85   \n",
       "9132      Suburban        Married                    96   \n",
       "9133      Suburban         Single                    77   \n",
       "\n",
       "      Months_Since_Last_Claim  Months_Since_Policy_Inception  \\\n",
       "9129                       18                             89   \n",
       "9130                       14                             28   \n",
       "9131                        9                             37   \n",
       "9132                       34                              3   \n",
       "9133                        3                             90   \n",
       "\n",
       "      Number_of_Open_Complaints  Number_of_Policies     Policy_Type  \\\n",
       "9129                          0                   2   Personal Auto   \n",
       "9130                          0                   1  Corporate Auto   \n",
       "9131                          3                   2  Corporate Auto   \n",
       "9132                          0                   3   Personal Auto   \n",
       "9133                          0                   1  Corporate Auto   \n",
       "\n",
       "            Policy  Claim_Reason Sales_Channel  Total_Claim_Amount  \\\n",
       "9129   Personal L1          Hail           Web          198.234764   \n",
       "9130  Corporate L3     Collision        Branch          379.200000   \n",
       "9131  Corporate L2     Collision        Branch          790.784983   \n",
       "9132   Personal L2  Scratch/Dent        Branch          691.200000   \n",
       "9133  Corporate L3         Other   Call Center          369.600000   \n",
       "\n",
       "      Vehicle_Class Vehicle_Size  \n",
       "9129  Four-Door Car      Medsize  \n",
       "9130  Four-Door Car      Medsize  \n",
       "9131  Four-Door Car      Medsize  \n",
       "9132  Four-Door Car        Large  \n",
       "9133   Two-Door Car      Medsize  "
      ]
     },
     "execution_count": 4,
     "metadata": {},
     "output_type": "execute_result"
    }
   ],
   "source": [
    "df_autoclaims.tail()"
   ]
  },
  {
   "cell_type": "markdown",
   "metadata": {},
   "source": [
    "We should also make sure our dataset is complete, as well as clean. We can start by looking at the metadata for the columns to make sure the data types are accurate and optimal, as well as check for null values/missing values."
   ]
  },
  {
   "cell_type": "code",
   "execution_count": 5,
   "metadata": {},
   "outputs": [
    {
     "name": "stdout",
     "output_type": "stream",
     "text": [
      "<class 'pandas.core.frame.DataFrame'>\n",
      "RangeIndex: 9134 entries, 0 to 9133\n",
      "Data columns (total 26 columns):\n",
      "Customer                         9134 non-null object\n",
      "Country                          9134 non-null object\n",
      "State_Code                       9134 non-null object\n",
      "State                            9134 non-null object\n",
      "Claim_Amount                     9134 non-null float64\n",
      "Response                         9134 non-null object\n",
      "Coverage                         9134 non-null object\n",
      "Education                        9134 non-null object\n",
      "Effective_To_Date                9134 non-null object\n",
      "Employment_Status                9134 non-null object\n",
      "Gender                           9134 non-null object\n",
      "Income                           9134 non-null int64\n",
      "Location_Code                    9134 non-null object\n",
      "Marital_Status                   9134 non-null object\n",
      "Monthly_Premium_Auto             9134 non-null int64\n",
      "Months_Since_Last_Claim          9134 non-null int64\n",
      "Months_Since_Policy_Inception    9134 non-null int64\n",
      "Number_of_Open_Complaints        9134 non-null int64\n",
      "Number_of_Policies               9134 non-null int64\n",
      "Policy_Type                      9134 non-null object\n",
      "Policy                           9134 non-null object\n",
      "Claim_Reason                     9134 non-null object\n",
      "Sales_Channel                    9134 non-null object\n",
      "Total_Claim_Amount               9134 non-null float64\n",
      "Vehicle_Class                    9134 non-null object\n",
      "Vehicle_Size                     9134 non-null object\n",
      "dtypes: float64(2), int64(6), object(18)\n",
      "memory usage: 1.8+ MB\n"
     ]
    }
   ],
   "source": [
    "# View information about the DataFrame metadata\n",
    "df_autoclaims.info(verbose=True, null_counts=True)"
   ]
  },
  {
   "cell_type": "markdown",
   "metadata": {},
   "source": [
    "Looks like the dataset is compelte, with no missing values or null values in any of the columns, however some of the data types do not appear to be accurate or optimized. Since we will be doing some **data cleansing** I like to create a copy of the dataset to work with going forward, this way there is a copy of the raw data still available if needed later."
   ]
  },
  {
   "cell_type": "code",
   "execution_count": 6,
   "metadata": {},
   "outputs": [],
   "source": [
    "# Create copy of data to preprocess for our analysis\n",
    "df_autoclaims_clean = df_autoclaims.copy()"
   ]
  },
  {
   "cell_type": "markdown",
   "metadata": {},
   "source": [
    "To start, it is a good practice to change any date related column to a datetime format. This can help with time-series analysis. "
   ]
  },
  {
   "cell_type": "code",
   "execution_count": 7,
   "metadata": {},
   "outputs": [
    {
     "name": "stdout",
     "output_type": "stream",
     "text": [
      "<class 'pandas.core.frame.DataFrame'>\n",
      "RangeIndex: 9134 entries, 0 to 9133\n",
      "Data columns (total 26 columns):\n",
      "Customer                         9134 non-null object\n",
      "Country                          9134 non-null object\n",
      "State_Code                       9134 non-null object\n",
      "State                            9134 non-null object\n",
      "Claim_Amount                     9134 non-null float64\n",
      "Response                         9134 non-null object\n",
      "Coverage                         9134 non-null object\n",
      "Education                        9134 non-null object\n",
      "Effective_To_Date                9134 non-null datetime64[ns]\n",
      "Employment_Status                9134 non-null object\n",
      "Gender                           9134 non-null object\n",
      "Income                           9134 non-null int64\n",
      "Location_Code                    9134 non-null object\n",
      "Marital_Status                   9134 non-null object\n",
      "Monthly_Premium_Auto             9134 non-null int64\n",
      "Months_Since_Last_Claim          9134 non-null int64\n",
      "Months_Since_Policy_Inception    9134 non-null int64\n",
      "Number_of_Open_Complaints        9134 non-null int64\n",
      "Number_of_Policies               9134 non-null int64\n",
      "Policy_Type                      9134 non-null object\n",
      "Policy                           9134 non-null object\n",
      "Claim_Reason                     9134 non-null object\n",
      "Sales_Channel                    9134 non-null object\n",
      "Total_Claim_Amount               9134 non-null float64\n",
      "Vehicle_Class                    9134 non-null object\n",
      "Vehicle_Size                     9134 non-null object\n",
      "dtypes: datetime64[ns](1), float64(2), int64(6), object(17)\n",
      "memory usage: 1.8+ MB\n"
     ]
    }
   ],
   "source": [
    "from dateutil import parser\n",
    "\n",
    "df_autoclaims_clean['Effective_To_Date'] = df_autoclaims_clean['Effective_To_Date'].apply(lambda x: parser.parse(x))\n",
    "\n",
    "# View information about the DataFrame metadata\n",
    "df_autoclaims_clean.info(verbose=True, null_counts=True)"
   ]
  },
  {
   "cell_type": "markdown",
   "metadata": {},
   "source": [
    "While we are in a data cleansing mood, lets convert some of these object features to type 'category' where it makes sense. This is a good practice as the Category data type uses less memory which will improve performance for some operations, such as the **groupby()** operation."
   ]
  },
  {
   "cell_type": "code",
   "execution_count": 8,
   "metadata": {},
   "outputs": [
    {
     "name": "stdout",
     "output_type": "stream",
     "text": [
      "<class 'pandas.core.frame.DataFrame'>\n",
      "RangeIndex: 9134 entries, 0 to 9133\n",
      "Data columns (total 26 columns):\n",
      "Customer                         9134 non-null object\n",
      "Country                          9134 non-null category\n",
      "State_Code                       9134 non-null category\n",
      "State                            9134 non-null category\n",
      "Claim_Amount                     9134 non-null float64\n",
      "Response                         9134 non-null category\n",
      "Coverage                         9134 non-null category\n",
      "Education                        9134 non-null category\n",
      "Effective_To_Date                9134 non-null datetime64[ns]\n",
      "Employment_Status                9134 non-null category\n",
      "Gender                           9134 non-null category\n",
      "Income                           9134 non-null int64\n",
      "Location_Code                    9134 non-null category\n",
      "Marital_Status                   9134 non-null category\n",
      "Monthly_Premium_Auto             9134 non-null int64\n",
      "Months_Since_Last_Claim          9134 non-null int64\n",
      "Months_Since_Policy_Inception    9134 non-null int64\n",
      "Number_of_Open_Complaints        9134 non-null int64\n",
      "Number_of_Policies               9134 non-null int64\n",
      "Policy_Type                      9134 non-null category\n",
      "Policy                           9134 non-null object\n",
      "Claim_Reason                     9134 non-null category\n",
      "Sales_Channel                    9134 non-null category\n",
      "Total_Claim_Amount               9134 non-null float64\n",
      "Vehicle_Class                    9134 non-null category\n",
      "Vehicle_Size                     9134 non-null category\n",
      "dtypes: category(15), datetime64[ns](1), float64(2), int64(6), object(2)\n",
      "memory usage: 921.0+ KB\n"
     ]
    }
   ],
   "source": [
    "cat_cols = ['State_Code', 'Country','State', 'Response', 'Coverage', 'Education', 'Employment_Status', 'Gender', \n",
    "            'Location_Code', 'Marital_Status', 'Policy_Type', 'Claim_Reason', 'Sales_Channel', 'Vehicle_Class', \n",
    "            'Vehicle_Size']\n",
    "\n",
    "df_autoclaims_clean[cat_cols] = df_autoclaims_clean[cat_cols].apply(pd.Categorical)\n",
    "\n",
    "# View information about the DataFrame metadata\n",
    "df_autoclaims_clean.info(verbose=True, null_counts=True)"
   ]
  },
  {
   "cell_type": "markdown",
   "metadata": {},
   "source": [
    "# IV. Explore the Data\n",
    "Now we have our data imported into our environment and have tidied the data, we need to start exploring our data to understand what we are working with more. In this stage we will plot data, look for anomalies and identify any useful patterns.\n",
    "\n",
    "\n",
    "But first we need to address some of the fundamental questions, starting with what is the number of entries in the dataset. To gather this insight we can leverage **Pandas** dataframe attribute **shape**."
   ]
  },
  {
   "cell_type": "code",
   "execution_count": 9,
   "metadata": {},
   "outputs": [
    {
     "name": "stdout",
     "output_type": "stream",
     "text": [
      "9134 rows and 26 columns are loaded to the Auto Insurance Claims dataframe.\n"
     ]
    }
   ],
   "source": [
    "print('{0} rows and {1} columns are loaded to the Auto Insurance Claims dataframe.'.format(df_autoclaims_clean.shape[0], df_autoclaims_clean.shape[1]))"
   ]
  },
  {
   "cell_type": "markdown",
   "metadata": {},
   "source": [
    "## Summarize the Data\n",
    "Now that we have a better understanding of the general shape of the data and have previewed the dataset, lets look at a statistical summary of out features. One useful method is the **Pandas** method **describe()**. This method provides some descriptive statisticals which summarize the central tendency, dispersion, and shape of a dataset’s distribution, excluding NaN values. The three main numerical measures for the center of a distribution are the mode, mean(µ), and the median (M). The mode is the most frequently occurring value. The mean is the average value, while the median is the middle value."
   ]
  },
  {
   "cell_type": "code",
   "execution_count": 10,
   "metadata": {},
   "outputs": [
    {
     "data": {
      "text/html": [
       "<div>\n",
       "<style scoped>\n",
       "    .dataframe tbody tr th:only-of-type {\n",
       "        vertical-align: middle;\n",
       "    }\n",
       "\n",
       "    .dataframe tbody tr th {\n",
       "        vertical-align: top;\n",
       "    }\n",
       "\n",
       "    .dataframe thead th {\n",
       "        text-align: right;\n",
       "    }\n",
       "</style>\n",
       "<table border=\"1\" class=\"dataframe\">\n",
       "  <thead>\n",
       "    <tr style=\"text-align: right;\">\n",
       "      <th></th>\n",
       "      <th>Claim_Amount</th>\n",
       "      <th>Income</th>\n",
       "      <th>Monthly_Premium_Auto</th>\n",
       "      <th>Months_Since_Last_Claim</th>\n",
       "      <th>Months_Since_Policy_Inception</th>\n",
       "      <th>Number_of_Open_Complaints</th>\n",
       "      <th>Number_of_Policies</th>\n",
       "      <th>Total_Claim_Amount</th>\n",
       "    </tr>\n",
       "  </thead>\n",
       "  <tbody>\n",
       "    <tr>\n",
       "      <th>count</th>\n",
       "      <td>9134.000000</td>\n",
       "      <td>9134.000000</td>\n",
       "      <td>9134.000000</td>\n",
       "      <td>9134.000000</td>\n",
       "      <td>9134.000000</td>\n",
       "      <td>9134.000000</td>\n",
       "      <td>9134.000000</td>\n",
       "      <td>9134.000000</td>\n",
       "    </tr>\n",
       "    <tr>\n",
       "      <th>mean</th>\n",
       "      <td>800.494047</td>\n",
       "      <td>37657.380009</td>\n",
       "      <td>93.219291</td>\n",
       "      <td>15.097000</td>\n",
       "      <td>48.064594</td>\n",
       "      <td>0.384388</td>\n",
       "      <td>2.966170</td>\n",
       "      <td>434.088794</td>\n",
       "    </tr>\n",
       "    <tr>\n",
       "      <th>std</th>\n",
       "      <td>687.096761</td>\n",
       "      <td>30379.904734</td>\n",
       "      <td>34.407967</td>\n",
       "      <td>10.073257</td>\n",
       "      <td>27.905991</td>\n",
       "      <td>0.910384</td>\n",
       "      <td>2.390182</td>\n",
       "      <td>290.500092</td>\n",
       "    </tr>\n",
       "    <tr>\n",
       "      <th>min</th>\n",
       "      <td>189.800768</td>\n",
       "      <td>0.000000</td>\n",
       "      <td>61.000000</td>\n",
       "      <td>0.000000</td>\n",
       "      <td>0.000000</td>\n",
       "      <td>0.000000</td>\n",
       "      <td>1.000000</td>\n",
       "      <td>0.099007</td>\n",
       "    </tr>\n",
       "    <tr>\n",
       "      <th>25%</th>\n",
       "      <td>399.425179</td>\n",
       "      <td>0.000000</td>\n",
       "      <td>68.000000</td>\n",
       "      <td>6.000000</td>\n",
       "      <td>24.000000</td>\n",
       "      <td>0.000000</td>\n",
       "      <td>1.000000</td>\n",
       "      <td>272.258244</td>\n",
       "    </tr>\n",
       "    <tr>\n",
       "      <th>50%</th>\n",
       "      <td>578.018220</td>\n",
       "      <td>33889.500000</td>\n",
       "      <td>83.000000</td>\n",
       "      <td>14.000000</td>\n",
       "      <td>48.000000</td>\n",
       "      <td>0.000000</td>\n",
       "      <td>2.000000</td>\n",
       "      <td>383.945434</td>\n",
       "    </tr>\n",
       "    <tr>\n",
       "      <th>75%</th>\n",
       "      <td>896.216704</td>\n",
       "      <td>62320.000000</td>\n",
       "      <td>109.000000</td>\n",
       "      <td>23.000000</td>\n",
       "      <td>71.000000</td>\n",
       "      <td>0.000000</td>\n",
       "      <td>4.000000</td>\n",
       "      <td>547.514839</td>\n",
       "    </tr>\n",
       "    <tr>\n",
       "      <th>max</th>\n",
       "      <td>8332.538119</td>\n",
       "      <td>99981.000000</td>\n",
       "      <td>298.000000</td>\n",
       "      <td>35.000000</td>\n",
       "      <td>99.000000</td>\n",
       "      <td>5.000000</td>\n",
       "      <td>9.000000</td>\n",
       "      <td>2893.239678</td>\n",
       "    </tr>\n",
       "  </tbody>\n",
       "</table>\n",
       "</div>"
      ],
      "text/plain": [
       "       Claim_Amount        Income  Monthly_Premium_Auto  \\\n",
       "count   9134.000000   9134.000000           9134.000000   \n",
       "mean     800.494047  37657.380009             93.219291   \n",
       "std      687.096761  30379.904734             34.407967   \n",
       "min      189.800768      0.000000             61.000000   \n",
       "25%      399.425179      0.000000             68.000000   \n",
       "50%      578.018220  33889.500000             83.000000   \n",
       "75%      896.216704  62320.000000            109.000000   \n",
       "max     8332.538119  99981.000000            298.000000   \n",
       "\n",
       "       Months_Since_Last_Claim  Months_Since_Policy_Inception  \\\n",
       "count              9134.000000                    9134.000000   \n",
       "mean                 15.097000                      48.064594   \n",
       "std                  10.073257                      27.905991   \n",
       "min                   0.000000                       0.000000   \n",
       "25%                   6.000000                      24.000000   \n",
       "50%                  14.000000                      48.000000   \n",
       "75%                  23.000000                      71.000000   \n",
       "max                  35.000000                      99.000000   \n",
       "\n",
       "       Number_of_Open_Complaints  Number_of_Policies  Total_Claim_Amount  \n",
       "count                9134.000000         9134.000000         9134.000000  \n",
       "mean                    0.384388            2.966170          434.088794  \n",
       "std                     0.910384            2.390182          290.500092  \n",
       "min                     0.000000            1.000000            0.099007  \n",
       "25%                     0.000000            1.000000          272.258244  \n",
       "50%                     0.000000            2.000000          383.945434  \n",
       "75%                     0.000000            4.000000          547.514839  \n",
       "max                     5.000000            9.000000         2893.239678  "
      ]
     },
     "execution_count": 10,
     "metadata": {},
     "output_type": "execute_result"
    }
   ],
   "source": [
    "df_autoclaims_clean.describe()"
   ]
  },
  {
   "cell_type": "markdown",
   "metadata": {},
   "source": [
    "## Univariate Analysis\n",
    "Next we can plot the univariate distribution of the numerical columns we summarized above. We will contain histograms and the estimated Probability Density Function (PDF) for our numeric features. The PDF is a function whose value at any given sample (or point) in the sample space (the set of possible values taken by the random variable) can be interpreted as providing a relative likelihood that the value of the random variable would equal that sample. (wiki). We use **displot()** of the **seaborn** library to plot this graph."
   ]
  },
  {
   "cell_type": "code",
   "execution_count": 11,
   "metadata": {},
   "outputs": [
    {
     "name": "stderr",
     "output_type": "stream",
     "text": [
      "C:\\Users\\jejohn\\AppData\\Local\\Continuum\\anaconda3\\lib\\site-packages\\scipy\\stats\\stats.py:1713: FutureWarning: Using a non-tuple sequence for multidimensional indexing is deprecated; use `arr[tuple(seq)]` instead of `arr[seq]`. In the future this will be interpreted as an array index, `arr[np.array(seq)]`, which will result either in an error or a different result.\n",
      "  return np.add.reduce(sorted[indexer] * weights, axis=axis) / sumval\n"
     ]
    },
    {
     "data": {
      "image/png": "[encoded data removed]",
      "text/plain": [
       "<Figure size 1152x1152 with 8 Axes>"
      ]
     },
     "metadata": {
      "needs_background": "light"
     },
     "output_type": "display_data"
    }
   ],
   "source": [
    "col_names = ['Total_Claim_Amount','Claim_Amount','Income','Monthly_Premium_Auto','Months_Since_Last_Claim','Months_Since_Policy_Inception','Number_of_Open_Complaints','Number_of_Policies']\n",
    "\n",
    "fig, ax = plt.subplots(len(col_names), figsize=(16,16))\n",
    "\n",
    "for i, col_val in enumerate(col_names):\n",
    "\n",
    "    sns.distplot(df_autoclaims_clean[col_val], hist=True, ax=ax[i])\n",
    "    ax[i].set_title('Freq dist '+col_val, fontsize=10)\n",
    "    ax[i].set_xlabel(col_val, fontsize=8)\n",
    "    ax[i].set_ylabel('Count', fontsize=8)\n",
    "\n",
    "plt.show()"
   ]
  },
  {
   "cell_type": "markdown",
   "metadata": {},
   "source": [
    "Since the above analysis focused mainly on the numeric features, lets explore our categorical features to gain more insight for our predictions."
   ]
  },
  {
   "cell_type": "markdown",
   "metadata": {},
   "source": [
    "Customer Demographic Distributions"
   ]
  },
  {
   "cell_type": "code",
   "execution_count": 12,
   "metadata": {},
   "outputs": [
    {
     "name": "stdout",
     "output_type": "stream",
     "text": [
      "State\n",
      "Iowa        2601\n",
      "Kansas       798\n",
      "Missouri    3150\n",
      "Nebraska    1703\n",
      "Oklahoma     882\n",
      "dtype: int64\n"
     ]
    },
    {
     "data": {
      "text/plain": [
       "<matplotlib.axes._subplots.AxesSubplot at 0x1b9848cda20>"
      ]
     },
     "execution_count": 12,
     "metadata": {},
     "output_type": "execute_result"
    },
    {
     "data": {
      "image/png": "[encoded data removed]",
      "text/plain": [
       "<Figure size 432x288 with 1 Axes>"
      ]
     },
     "metadata": {
      "needs_background": "light"
     },
     "output_type": "display_data"
    }
   ],
   "source": [
    "print(df_autoclaims_clean.groupby('State').size())\n",
    "df_autoclaims_clean['State'].value_counts().plot.bar(title=\"Freq dist of State\")"
   ]
  },
  {
   "cell_type": "code",
   "execution_count": 13,
   "metadata": {},
   "outputs": [
    {
     "name": "stdout",
     "output_type": "stream",
     "text": [
      "Location_Code\n",
      "Rural       1773\n",
      "Suburban    5779\n",
      "Urban       1582\n",
      "dtype: int64\n"
     ]
    },
    {
     "data": {
      "text/plain": [
       "<matplotlib.axes._subplots.AxesSubplot at 0x1b98557cd68>"
      ]
     },
     "execution_count": 13,
     "metadata": {},
     "output_type": "execute_result"
    },
    {
     "data": {
      "image/png": "[encoded data removed]",
      "text/plain": [
       "<Figure size 432x288 with 1 Axes>"
      ]
     },
     "metadata": {
      "needs_background": "light"
     },
     "output_type": "display_data"
    }
   ],
   "source": [
    "print(df_autoclaims_clean.groupby('Location_Code').size())\n",
    "df_autoclaims_clean['Location_Code'].value_counts().plot.bar(title=\"Freq dist of Location_Code\")"
   ]
  },
  {
   "cell_type": "code",
   "execution_count": 14,
   "metadata": {},
   "outputs": [
    {
     "name": "stdout",
     "output_type": "stream",
     "text": [
      "Gender\n",
      "F    4658\n",
      "M    4476\n",
      "dtype: int64\n"
     ]
    },
    {
     "data": {
      "text/plain": [
       "<matplotlib.axes._subplots.AxesSubplot at 0x1b984c3cf28>"
      ]
     },
     "execution_count": 14,
     "metadata": {},
     "output_type": "execute_result"
    },
    {
     "data": {
      "image/png": "[encoded data removed]",
      "text/plain": [
       "<Figure size 432x288 with 1 Axes>"
      ]
     },
     "metadata": {
      "needs_background": "light"
     },
     "output_type": "display_data"
    }
   ],
   "source": [
    "print(df_autoclaims_clean.groupby('Gender').size())\n",
    "df_autoclaims_clean['Gender'].value_counts().plot.bar(title=\"Freq dist of Gender\")"
   ]
  },
  {
   "cell_type": "code",
   "execution_count": 15,
   "metadata": {},
   "outputs": [
    {
     "name": "stdout",
     "output_type": "stream",
     "text": [
      "Education\n",
      "Bachelor                2748\n",
      "College                 2681\n",
      "Doctor                   342\n",
      "High School or Below    2622\n",
      "Master                   741\n",
      "dtype: int64\n"
     ]
    },
    {
     "data": {
      "text/plain": [
       "<matplotlib.axes._subplots.AxesSubplot at 0x1b984c92940>"
      ]
     },
     "execution_count": 15,
     "metadata": {},
     "output_type": "execute_result"
    },
    {
     "data": {
      "image/png": "[encoded data removed]",
      "text/plain": [
       "<Figure size 432x288 with 1 Axes>"
      ]
     },
     "metadata": {
      "needs_background": "light"
     },
     "output_type": "display_data"
    }
   ],
   "source": [
    "print(df_autoclaims_clean.groupby('Education').size())\n",
    "df_autoclaims_clean['Education'].value_counts().plot.bar(title=\"Freq dist of Education\")"
   ]
  },
  {
   "cell_type": "code",
   "execution_count": 16,
   "metadata": {},
   "outputs": [
    {
     "name": "stdout",
     "output_type": "stream",
     "text": [
      "Employment_Status\n",
      "Disabled          405\n",
      "Employed         5698\n",
      "Medical Leave     432\n",
      "Retired           282\n",
      "Unemployed       2317\n",
      "dtype: int64\n"
     ]
    },
    {
     "data": {
      "text/plain": [
       "<matplotlib.axes._subplots.AxesSubplot at 0x1b984ceab38>"
      ]
     },
     "execution_count": 16,
     "metadata": {},
     "output_type": "execute_result"
    },
    {
     "data": {
      "image/png": "[encoded data removed]",
      "text/plain": [
       "<Figure size 432x288 with 1 Axes>"
      ]
     },
     "metadata": {
      "needs_background": "light"
     },
     "output_type": "display_data"
    }
   ],
   "source": [
    "print(df_autoclaims_clean.groupby('Employment_Status').size())\n",
    "df_autoclaims_clean['Employment_Status'].value_counts().plot.bar(title=\"Freq dist of Employment_Status\")"
   ]
  },
  {
   "cell_type": "code",
   "execution_count": 17,
   "metadata": {},
   "outputs": [
    {
     "name": "stdout",
     "output_type": "stream",
     "text": [
      "Marital_Status\n",
      "Divorced    1369\n",
      "Married     5298\n",
      "Single      2467\n",
      "dtype: int64\n"
     ]
    },
    {
     "data": {
      "text/plain": [
       "<matplotlib.axes._subplots.AxesSubplot at 0x1b984d51198>"
      ]
     },
     "execution_count": 17,
     "metadata": {},
     "output_type": "execute_result"
    },
    {
     "data": {
      "image/png": "[encoded data removed]",
      "text/plain": [
       "<Figure size 432x288 with 1 Axes>"
      ]
     },
     "metadata": {
      "needs_background": "light"
     },
     "output_type": "display_data"
    }
   ],
   "source": [
    "print(df_autoclaims_clean.groupby('Marital_Status').size())\n",
    "df_autoclaims_clean['Marital_Status'].value_counts().plot.bar(title=\"Freq dist of Marital_Status\")"
   ]
  },
  {
   "cell_type": "markdown",
   "metadata": {},
   "source": [
    "Insurance Features Distributions"
   ]
  },
  {
   "cell_type": "code",
   "execution_count": 18,
   "metadata": {},
   "outputs": [
    {
     "name": "stdout",
     "output_type": "stream",
     "text": [
      "Coverage\n",
      "Basic       5568\n",
      "Extended    2742\n",
      "Premium      824\n",
      "dtype: int64\n"
     ]
    },
    {
     "data": {
      "text/plain": [
       "<matplotlib.axes._subplots.AxesSubplot at 0x1b984dabc50>"
      ]
     },
     "execution_count": 18,
     "metadata": {},
     "output_type": "execute_result"
    },
    {
     "data": {
      "image/png": "[encoded data removed]",
      "text/plain": [
       "<Figure size 432x288 with 1 Axes>"
      ]
     },
     "metadata": {
      "needs_background": "light"
     },
     "output_type": "display_data"
    }
   ],
   "source": [
    "print(df_autoclaims_clean.groupby('Coverage').size())\n",
    "df_autoclaims_clean['Coverage'].value_counts().plot.bar(title=\"Freq dist of Coverage\")"
   ]
  },
  {
   "cell_type": "code",
   "execution_count": 19,
   "metadata": {},
   "outputs": [
    {
     "name": "stdout",
     "output_type": "stream",
     "text": [
      "Policy_Type\n",
      "Corporate Auto    1968\n",
      "Personal Auto     6788\n",
      "Special Auto       378\n",
      "dtype: int64\n"
     ]
    },
    {
     "data": {
      "text/plain": [
       "<matplotlib.axes._subplots.AxesSubplot at 0x1b984e06ac8>"
      ]
     },
     "execution_count": 19,
     "metadata": {},
     "output_type": "execute_result"
    },
    {
     "data": {
      "image/png": "[encoded data removed]",
      "text/plain": [
       "<Figure size 432x288 with 1 Axes>"
      ]
     },
     "metadata": {
      "needs_background": "light"
     },
     "output_type": "display_data"
    }
   ],
   "source": [
    "print(df_autoclaims_clean.groupby('Policy_Type').size())\n",
    "df_autoclaims_clean['Policy_Type'].value_counts().plot.bar(title=\"Freq dist of Policy_Type\")"
   ]
  },
  {
   "cell_type": "code",
   "execution_count": 20,
   "metadata": {},
   "outputs": [
    {
     "name": "stdout",
     "output_type": "stream",
     "text": [
      "Claim_Reason\n",
      "Collision       3752\n",
      "Hail            2926\n",
      "Other           1024\n",
      "Scratch/Dent    1432\n",
      "dtype: int64\n"
     ]
    },
    {
     "data": {
      "text/plain": [
       "<matplotlib.axes._subplots.AxesSubplot at 0x1b984e5a710>"
      ]
     },
     "execution_count": 20,
     "metadata": {},
     "output_type": "execute_result"
    },
    {
     "data": {
      "image/png": "[encoded data removed]",
      "text/plain": [
       "<Figure size 432x288 with 1 Axes>"
      ]
     },
     "metadata": {
      "needs_background": "light"
     },
     "output_type": "display_data"
    }
   ],
   "source": [
    "print(df_autoclaims_clean.groupby('Claim_Reason').size())\n",
    "df_autoclaims_clean['Claim_Reason'].value_counts().plot.bar(title=\"Freq dist of Claim_Reason\")"
   ]
  },
  {
   "cell_type": "code",
   "execution_count": 21,
   "metadata": {},
   "outputs": [
    {
     "name": "stdout",
     "output_type": "stream",
     "text": [
      "Sales_Channel\n",
      "Agent          3477\n",
      "Branch         2567\n",
      "Call Center    1765\n",
      "Web            1325\n",
      "dtype: int64\n"
     ]
    },
    {
     "data": {
      "text/plain": [
       "<matplotlib.axes._subplots.AxesSubplot at 0x1b984eba748>"
      ]
     },
     "execution_count": 21,
     "metadata": {},
     "output_type": "execute_result"
    },
    {
     "data": {
      "image/png": "[encoded data removed]",
      "text/plain": [
       "<Figure size 432x288 with 1 Axes>"
      ]
     },
     "metadata": {
      "needs_background": "light"
     },
     "output_type": "display_data"
    }
   ],
   "source": [
    "print(df_autoclaims_clean.groupby('Sales_Channel').size())\n",
    "df_autoclaims_clean['Sales_Channel'].value_counts().plot.bar(title=\"Freq dist of Sales_Channel\")"
   ]
  },
  {
   "cell_type": "code",
   "execution_count": 22,
   "metadata": {},
   "outputs": [
    {
     "name": "stdout",
     "output_type": "stream",
     "text": [
      "Vehicle_Size\n",
      "Large       946\n",
      "Medsize    6424\n",
      "Small      1764\n",
      "dtype: int64\n"
     ]
    },
    {
     "data": {
      "text/plain": [
       "<matplotlib.axes._subplots.AxesSubplot at 0x1b984f1c080>"
      ]
     },
     "execution_count": 22,
     "metadata": {},
     "output_type": "execute_result"
    },
    {
     "data": {
      "image/png": "[encoded data removed]",
      "text/plain": [
       "<Figure size 432x288 with 1 Axes>"
      ]
     },
     "metadata": {
      "needs_background": "light"
     },
     "output_type": "display_data"
    }
   ],
   "source": [
    "print(df_autoclaims_clean.groupby('Vehicle_Size').size())\n",
    "df_autoclaims_clean['Vehicle_Size'].value_counts().plot.bar(title=\"Freq dist of Vehicle_Size\")"
   ]
  },
  {
   "cell_type": "code",
   "execution_count": 23,
   "metadata": {},
   "outputs": [
    {
     "name": "stdout",
     "output_type": "stream",
     "text": [
      "Vehicle_Class\n",
      "Four-Door Car    4621\n",
      "Luxury Car        163\n",
      "Luxury SUV        184\n",
      "SUV              1796\n",
      "Sports Car        484\n",
      "Two-Door Car     1886\n",
      "dtype: int64\n"
     ]
    },
    {
     "data": {
      "text/plain": [
       "<matplotlib.axes._subplots.AxesSubplot at 0x1b984f84048>"
      ]
     },
     "execution_count": 23,
     "metadata": {},
     "output_type": "execute_result"
    },
    {
     "data": {
      "image/png": "[encoded data removed]",
      "text/plain": [
       "<Figure size 432x288 with 1 Axes>"
      ]
     },
     "metadata": {
      "needs_background": "light"
     },
     "output_type": "display_data"
    }
   ],
   "source": [
    "print(df_autoclaims_clean.groupby('Vehicle_Class').size())\n",
    "df_autoclaims_clean['Vehicle_Class'].value_counts().plot.bar(title=\"Freq dist of Vehicle_Class\")"
   ]
  },
  {
   "cell_type": "markdown",
   "metadata": {},
   "source": [
    "## Bivariate Analysis\n",
    "Let's study the relationship between two numeric variables. This can be achieved by looking for correlations between every pair of features and the target variable using the **corr()** function."
   ]
  },
  {
   "cell_type": "code",
   "execution_count": 24,
   "metadata": {},
   "outputs": [
    {
     "data": {
      "text/html": [
       "<div>\n",
       "<style scoped>\n",
       "    .dataframe tbody tr th:only-of-type {\n",
       "        vertical-align: middle;\n",
       "    }\n",
       "\n",
       "    .dataframe tbody tr th {\n",
       "        vertical-align: top;\n",
       "    }\n",
       "\n",
       "    .dataframe thead th {\n",
       "        text-align: right;\n",
       "    }\n",
       "</style>\n",
       "<table border=\"1\" class=\"dataframe\">\n",
       "  <thead>\n",
       "    <tr style=\"text-align: right;\">\n",
       "      <th></th>\n",
       "      <th>Claim_Amount</th>\n",
       "      <th>Income</th>\n",
       "      <th>Monthly_Premium_Auto</th>\n",
       "      <th>Months_Since_Last_Claim</th>\n",
       "      <th>Months_Since_Policy_Inception</th>\n",
       "      <th>Number_of_Open_Complaints</th>\n",
       "      <th>Number_of_Policies</th>\n",
       "      <th>Total_Claim_Amount</th>\n",
       "    </tr>\n",
       "  </thead>\n",
       "  <tbody>\n",
       "    <tr>\n",
       "      <th>Claim_Amount</th>\n",
       "      <td>1.000000</td>\n",
       "      <td>0.024366</td>\n",
       "      <td>0.396262</td>\n",
       "      <td>0.011517</td>\n",
       "      <td>0.009418</td>\n",
       "      <td>-0.036343</td>\n",
       "      <td>0.021955</td>\n",
       "      <td>0.226451</td>\n",
       "    </tr>\n",
       "    <tr>\n",
       "      <th>Income</th>\n",
       "      <td>0.024366</td>\n",
       "      <td>1.000000</td>\n",
       "      <td>-0.016665</td>\n",
       "      <td>-0.026715</td>\n",
       "      <td>-0.000875</td>\n",
       "      <td>0.006408</td>\n",
       "      <td>-0.008656</td>\n",
       "      <td>-0.355254</td>\n",
       "    </tr>\n",
       "    <tr>\n",
       "      <th>Monthly_Premium_Auto</th>\n",
       "      <td>0.396262</td>\n",
       "      <td>-0.016665</td>\n",
       "      <td>1.000000</td>\n",
       "      <td>0.005026</td>\n",
       "      <td>0.020257</td>\n",
       "      <td>-0.013122</td>\n",
       "      <td>-0.011233</td>\n",
       "      <td>0.632017</td>\n",
       "    </tr>\n",
       "    <tr>\n",
       "      <th>Months_Since_Last_Claim</th>\n",
       "      <td>0.011517</td>\n",
       "      <td>-0.026715</td>\n",
       "      <td>0.005026</td>\n",
       "      <td>1.000000</td>\n",
       "      <td>-0.042959</td>\n",
       "      <td>0.005354</td>\n",
       "      <td>0.009136</td>\n",
       "      <td>0.007563</td>\n",
       "    </tr>\n",
       "    <tr>\n",
       "      <th>Months_Since_Policy_Inception</th>\n",
       "      <td>0.009418</td>\n",
       "      <td>-0.000875</td>\n",
       "      <td>0.020257</td>\n",
       "      <td>-0.042959</td>\n",
       "      <td>1.000000</td>\n",
       "      <td>-0.001158</td>\n",
       "      <td>-0.013333</td>\n",
       "      <td>0.003335</td>\n",
       "    </tr>\n",
       "    <tr>\n",
       "      <th>Number_of_Open_Complaints</th>\n",
       "      <td>-0.036343</td>\n",
       "      <td>0.006408</td>\n",
       "      <td>-0.013122</td>\n",
       "      <td>0.005354</td>\n",
       "      <td>-0.001158</td>\n",
       "      <td>1.000000</td>\n",
       "      <td>0.001498</td>\n",
       "      <td>-0.014241</td>\n",
       "    </tr>\n",
       "    <tr>\n",
       "      <th>Number_of_Policies</th>\n",
       "      <td>0.021955</td>\n",
       "      <td>-0.008656</td>\n",
       "      <td>-0.011233</td>\n",
       "      <td>0.009136</td>\n",
       "      <td>-0.013333</td>\n",
       "      <td>0.001498</td>\n",
       "      <td>1.000000</td>\n",
       "      <td>-0.002354</td>\n",
       "    </tr>\n",
       "    <tr>\n",
       "      <th>Total_Claim_Amount</th>\n",
       "      <td>0.226451</td>\n",
       "      <td>-0.355254</td>\n",
       "      <td>0.632017</td>\n",
       "      <td>0.007563</td>\n",
       "      <td>0.003335</td>\n",
       "      <td>-0.014241</td>\n",
       "      <td>-0.002354</td>\n",
       "      <td>1.000000</td>\n",
       "    </tr>\n",
       "  </tbody>\n",
       "</table>\n",
       "</div>"
      ],
      "text/plain": [
       "                               Claim_Amount    Income  Monthly_Premium_Auto  \\\n",
       "Claim_Amount                       1.000000  0.024366              0.396262   \n",
       "Income                             0.024366  1.000000             -0.016665   \n",
       "Monthly_Premium_Auto               0.396262 -0.016665              1.000000   \n",
       "Months_Since_Last_Claim            0.011517 -0.026715              0.005026   \n",
       "Months_Since_Policy_Inception      0.009418 -0.000875              0.020257   \n",
       "Number_of_Open_Complaints         -0.036343  0.006408             -0.013122   \n",
       "Number_of_Policies                 0.021955 -0.008656             -0.011233   \n",
       "Total_Claim_Amount                 0.226451 -0.355254              0.632017   \n",
       "\n",
       "                               Months_Since_Last_Claim  \\\n",
       "Claim_Amount                                  0.011517   \n",
       "Income                                       -0.026715   \n",
       "Monthly_Premium_Auto                          0.005026   \n",
       "Months_Since_Last_Claim                       1.000000   \n",
       "Months_Since_Policy_Inception                -0.042959   \n",
       "Number_of_Open_Complaints                     0.005354   \n",
       "Number_of_Policies                            0.009136   \n",
       "Total_Claim_Amount                            0.007563   \n",
       "\n",
       "                               Months_Since_Policy_Inception  \\\n",
       "Claim_Amount                                        0.009418   \n",
       "Income                                             -0.000875   \n",
       "Monthly_Premium_Auto                                0.020257   \n",
       "Months_Since_Last_Claim                            -0.042959   \n",
       "Months_Since_Policy_Inception                       1.000000   \n",
       "Number_of_Open_Complaints                          -0.001158   \n",
       "Number_of_Policies                                 -0.013333   \n",
       "Total_Claim_Amount                                  0.003335   \n",
       "\n",
       "                               Number_of_Open_Complaints  Number_of_Policies  \\\n",
       "Claim_Amount                                   -0.036343            0.021955   \n",
       "Income                                          0.006408           -0.008656   \n",
       "Monthly_Premium_Auto                           -0.013122           -0.011233   \n",
       "Months_Since_Last_Claim                         0.005354            0.009136   \n",
       "Months_Since_Policy_Inception                  -0.001158           -0.013333   \n",
       "Number_of_Open_Complaints                       1.000000            0.001498   \n",
       "Number_of_Policies                              0.001498            1.000000   \n",
       "Total_Claim_Amount                             -0.014241           -0.002354   \n",
       "\n",
       "                               Total_Claim_Amount  \n",
       "Claim_Amount                             0.226451  \n",
       "Income                                  -0.355254  \n",
       "Monthly_Premium_Auto                     0.632017  \n",
       "Months_Since_Last_Claim                  0.007563  \n",
       "Months_Since_Policy_Inception            0.003335  \n",
       "Number_of_Open_Complaints               -0.014241  \n",
       "Number_of_Policies                      -0.002354  \n",
       "Total_Claim_Amount                       1.000000  "
      ]
     },
     "execution_count": 24,
     "metadata": {},
     "output_type": "execute_result"
    }
   ],
   "source": [
    "corr = df_autoclaims_clean.corr()\n",
    "corr"
   ]
  },
  {
   "cell_type": "markdown",
   "metadata": {},
   "source": [
    "We can also inlude a headmap to help visualize any correlations a little easier. In the heat map the brighter colors indicate more correlation."
   ]
  },
  {
   "cell_type": "code",
   "execution_count": 25,
   "metadata": {},
   "outputs": [
    {
     "data": {
      "text/plain": [
       "<matplotlib.axes._subplots.AxesSubplot at 0x1b985018518>"
      ]
     },
     "execution_count": 25,
     "metadata": {},
     "output_type": "execute_result"
    },
    {
     "data": {
      "image/png": "[encoded data removed]",
      "text/plain": [
       "<Figure size 432x288 with 2 Axes>"
      ]
     },
     "metadata": {
      "needs_background": "light"
     },
     "output_type": "display_data"
    }
   ],
   "source": [
    "sns.heatmap(corr, \n",
    "        xticklabels=corr.columns,\n",
    "        yticklabels=corr.columns)"
   ]
  },
  {
   "cell_type": "markdown",
   "metadata": {},
   "source": [
    "However, these correlation analysis functions only observe numeric features, not categorical. To enrich our analysis more, it would be helpful to transform some of our categorical data to numeric data to add to our analysis."
   ]
  },
  {
   "cell_type": "markdown",
   "metadata": {},
   "source": [
    "## Feature Engineering\n",
    "Now that we have a better understanding of our data, it has become obvious that some additional features could be generated based on the features we already have that could add to our analysis."
   ]
  },
  {
   "cell_type": "code",
   "execution_count": 26,
   "metadata": {},
   "outputs": [],
   "source": [
    "df_autoclaims_encoded = df_autoclaims_clean.copy()"
   ]
  },
  {
   "cell_type": "markdown",
   "metadata": {},
   "source": [
    "Encode nominal categorical features"
   ]
  },
  {
   "cell_type": "code",
   "execution_count": 27,
   "metadata": {},
   "outputs": [],
   "source": [
    "def cat_nominal_transform(s):\n",
    "    gle = LabelEncoder()\n",
    "    labels = gle.fit_transform(s)\n",
    "    mappings = {index: label for index, label in enumerate(gle.classes_)}\n",
    "    return labels, mappings"
   ]
  },
  {
   "cell_type": "code",
   "execution_count": 28,
   "metadata": {},
   "outputs": [
    {
     "name": "stdout",
     "output_type": "stream",
     "text": [
      "{0: 'Disabled', 1: 'Employed', 2: 'Medical Leave', 3: 'Retired', 4: 'Unemployed'}\n",
      "{0: 'Divorced', 1: 'Married', 2: 'Single'}\n",
      "{0: 'Corporate Auto', 1: 'Personal Auto', 2: 'Special Auto'}\n",
      "{0: 'Collision', 1: 'Hail', 2: 'Other', 3: 'Scratch/Dent'}\n",
      "{0: 'Agent', 1: 'Branch', 2: 'Call Center', 3: 'Web'}\n",
      "{0: 'Four-Door Car', 1: 'Luxury Car', 2: 'Luxury SUV', 3: 'SUV', 4: 'Sports Car', 5: 'Two-Door Car'}\n"
     ]
    }
   ],
   "source": [
    "emp_status_labels, emp_status_mappings = cat_nominal_transform(df_autoclaims_encoded['Employment_Status'])\n",
    "df_autoclaims_encoded['Employment_Status_Encoded'] = emp_status_labels\n",
    "print(emp_status_mappings)\n",
    "\n",
    "marital_status_labels, marital_status_mappings = cat_nominal_transform(df_autoclaims_encoded['Marital_Status'])\n",
    "df_autoclaims_encoded['Marital_Status_Encoded'] = marital_status_labels\n",
    "print(marital_status_mappings)\n",
    "\n",
    "policy_type_labels, policy_type_mappings = cat_nominal_transform(df_autoclaims_encoded['Policy_Type'])\n",
    "df_autoclaims_encoded['Policy_Type_Encoded'] = policy_type_labels\n",
    "print(policy_type_mappings)\n",
    "\n",
    "claim_reason_labels, claim_reason_mappings = cat_nominal_transform(df_autoclaims_encoded['Claim_Reason'])\n",
    "df_autoclaims_encoded['Claim_Reason_Encoded'] = claim_reason_labels\n",
    "print(claim_reason_mappings)\n",
    "\n",
    "sales_channel_labels, sales_channel_mappings = cat_nominal_transform(df_autoclaims_encoded['Sales_Channel'])\n",
    "df_autoclaims_encoded['Sales_Channel_Encoded'] = sales_channel_labels\n",
    "print(sales_channel_mappings)\n",
    "\n",
    "vehicle_class_labels, vehicle_class_mappings = cat_nominal_transform(df_autoclaims_encoded['Vehicle_Class'])\n",
    "df_autoclaims_encoded['Vehicle_Class_Encoded'] = vehicle_class_labels\n",
    "print(vehicle_class_mappings)"
   ]
  },
  {
   "cell_type": "markdown",
   "metadata": {},
   "source": [
    "Encode ordinal categorical features"
   ]
  },
  {
   "cell_type": "code",
   "execution_count": 29,
   "metadata": {},
   "outputs": [
    {
     "name": "stdout",
     "output_type": "stream",
     "text": [
      "{'Basic': 0, 'Extended': 1, 'Premium': 2}\n",
      "Coverage Encodings: {'High School or Below': 0, 'College': 1, 'Bachelor': 2, 'Master': 3, 'Doctor': 4}\n",
      "{'Small': 0, 'Medsize': 1, 'Large': 2}\n"
     ]
    }
   ],
   "source": [
    "coverage_map = {'Basic': 0, 'Extended': 1, 'Premium': 2}\n",
    "df_autoclaims_encoded['Coverage_Encoded'] = df_autoclaims_encoded['Coverage'].map(coverage_map)\n",
    "print(coverage_map)\n",
    "\n",
    "ed_map = {'High School or Below': 0, 'College': 1, 'Bachelor': 2, 'Master': 3, 'Doctor': 4}\n",
    "df_autoclaims_encoded['Education_Encoded'] = df_autoclaims_encoded['Education'].map(ed_map)\n",
    "print('Coverage Encodings: {}'.format(ed_map))\n",
    "\n",
    "veh_size_map = {'Small': 0, 'Medsize': 1, 'Large': 2}\n",
    "df_autoclaims_encoded['Vehicle_Size_Encoded'] = df_autoclaims_encoded['Vehicle_Size'].map(veh_size_map)\n",
    "print(veh_size_map)\n",
    "\n",
    "df_autoclaims_encoded['Response_Encoded'] = df_autoclaims_encoded['Response'].map({'Yes': 1, 'No': 0})\n",
    "df_autoclaims_encoded['Gender_Encoded'] = df_autoclaims_encoded['Gender'].map({'M':1, 'F':0})"
   ]
  },
  {
   "cell_type": "markdown",
   "metadata": {},
   "source": [
    "Encode nomincal categorical data to new features"
   ]
  },
  {
   "cell_type": "code",
   "execution_count": 30,
   "metadata": {},
   "outputs": [],
   "source": [
    "df_autoclaims_encoded = pd.concat([df_autoclaims_encoded, pd.get_dummies(df_autoclaims_encoded.Employment_Status, prefix='emp_stat')], axis=1)\n",
    "df_autoclaims_encoded = pd.concat([df_autoclaims_encoded, pd.get_dummies(df_autoclaims_encoded.Marital_Status, prefix='m_stat')], axis=1)\n",
    "df_autoclaims_encoded = pd.concat([df_autoclaims_encoded, pd.get_dummies(df_autoclaims_encoded.Policy_Type, prefix='p_type')], axis=1)\n",
    "df_autoclaims_encoded = pd.concat([df_autoclaims_encoded, pd.get_dummies(df_autoclaims_encoded.Claim_Reason, prefix='claim_rsn')], axis=1)\n",
    "df_autoclaims_encoded = pd.concat([df_autoclaims_encoded, pd.get_dummies(df_autoclaims_encoded.Sales_Channel, prefix='s_chnl')], axis=1)\n",
    "df_autoclaims_encoded = pd.concat([df_autoclaims_encoded, pd.get_dummies(df_autoclaims_encoded.Vehicle_Class, prefix='veh_cls')], axis=1)"
   ]
  },
  {
   "cell_type": "code",
   "execution_count": 31,
   "metadata": {},
   "outputs": [
    {
     "name": "stdout",
     "output_type": "stream",
     "text": [
      "<class 'pandas.core.frame.DataFrame'>\n",
      "RangeIndex: 9134 entries, 0 to 9133\n",
      "Data columns (total 62 columns):\n",
      "Customer                         9134 non-null object\n",
      "Country                          9134 non-null category\n",
      "State_Code                       9134 non-null category\n",
      "State                            9134 non-null category\n",
      "Claim_Amount                     9134 non-null float64\n",
      "Response                         9134 non-null category\n",
      "Coverage                         9134 non-null category\n",
      "Education                        9134 non-null category\n",
      "Effective_To_Date                9134 non-null datetime64[ns]\n",
      "Employment_Status                9134 non-null category\n",
      "Gender                           9134 non-null category\n",
      "Income                           9134 non-null int64\n",
      "Location_Code                    9134 non-null category\n",
      "Marital_Status                   9134 non-null category\n",
      "Monthly_Premium_Auto             9134 non-null int64\n",
      "Months_Since_Last_Claim          9134 non-null int64\n",
      "Months_Since_Policy_Inception    9134 non-null int64\n",
      "Number_of_Open_Complaints        9134 non-null int64\n",
      "Number_of_Policies               9134 non-null int64\n",
      "Policy_Type                      9134 non-null category\n",
      "Policy                           9134 non-null object\n",
      "Claim_Reason                     9134 non-null category\n",
      "Sales_Channel                    9134 non-null category\n",
      "Total_Claim_Amount               9134 non-null float64\n",
      "Vehicle_Class                    9134 non-null category\n",
      "Vehicle_Size                     9134 non-null category\n",
      "Employment_Status_Encoded        9134 non-null int64\n",
      "Marital_Status_Encoded           9134 non-null int64\n",
      "Policy_Type_Encoded              9134 non-null int64\n",
      "Claim_Reason_Encoded             9134 non-null int64\n",
      "Sales_Channel_Encoded            9134 non-null int64\n",
      "Vehicle_Class_Encoded            9134 non-null int64\n",
      "Coverage_Encoded                 9134 non-null int64\n",
      "Education_Encoded                9134 non-null int64\n",
      "Vehicle_Size_Encoded             9134 non-null int64\n",
      "Response_Encoded                 9134 non-null int64\n",
      "Gender_Encoded                   9134 non-null int64\n",
      "emp_stat_Disabled                9134 non-null uint8\n",
      "emp_stat_Employed                9134 non-null uint8\n",
      "emp_stat_Medical Leave           9134 non-null uint8\n",
      "emp_stat_Retired                 9134 non-null uint8\n",
      "emp_stat_Unemployed              9134 non-null uint8\n",
      "m_stat_Divorced                  9134 non-null uint8\n",
      "m_stat_Married                   9134 non-null uint8\n",
      "m_stat_Single                    9134 non-null uint8\n",
      "p_type_Corporate Auto            9134 non-null uint8\n",
      "p_type_Personal Auto             9134 non-null uint8\n",
      "p_type_Special Auto              9134 non-null uint8\n",
      "claim_rsn_Collision              9134 non-null uint8\n",
      "claim_rsn_Hail                   9134 non-null uint8\n",
      "claim_rsn_Other                  9134 non-null uint8\n",
      "claim_rsn_Scratch/Dent           9134 non-null uint8\n",
      "s_chnl_Agent                     9134 non-null uint8\n",
      "s_chnl_Branch                    9134 non-null uint8\n",
      "s_chnl_Call Center               9134 non-null uint8\n",
      "s_chnl_Web                       9134 non-null uint8\n",
      "veh_cls_Four-Door Car            9134 non-null uint8\n",
      "veh_cls_Luxury Car               9134 non-null uint8\n",
      "veh_cls_Luxury SUV               9134 non-null uint8\n",
      "veh_cls_SUV                      9134 non-null uint8\n",
      "veh_cls_Sports Car               9134 non-null uint8\n",
      "veh_cls_Two-Door Car             9134 non-null uint8\n",
      "dtypes: category(15), datetime64[ns](1), float64(2), int64(17), object(2), uint8(25)\n",
      "memory usage: 1.9+ MB\n",
      "None\n"
     ]
    }
   ],
   "source": [
    "print(df_autoclaims_encoded.info())"
   ]
  },
  {
   "cell_type": "markdown",
   "metadata": {},
   "source": [
    "# Evaluate Algorithms\n",
    "Now let's create some models of the data and estimate their accuracy on unseen data.\n",
    "\n",
    "\n",
    "First we'll start by separating out a validation dataset. This will help us make sure our model is good later in our selection. This means we are going to hold back some data that the algorithms will not get to see and we will use this data to get a second and independent idea on how accurate the best model might be."
   ]
  },
  {
   "cell_type": "code",
   "execution_count": 41,
   "metadata": {},
   "outputs": [
    {
     "name": "stdout",
     "output_type": "stream",
     "text": [
      "df_autoclaims_data datatype = <class 'pandas.core.frame.DataFrame'> and df_autoclaims_tgt datatype = <class 'numpy.ndarray'>\n"
     ]
    }
   ],
   "source": [
    "df_autoclaims_data = df_autoclaims_encoded[['Claim_Amount','Income', 'Monthly_Premium_Auto', 'Months_Since_Last_Claim',\n",
    "                       'Months_Since_Policy_Inception', 'Number_of_Open_Complaints','Number_of_Policies', \n",
    "                       'Total_Claim_Amount', 'Coverage_Encoded', 'Education_Encoded','Vehicle_Size_Encoded', \n",
    "                       'Response_Encoded', 'Gender_Encoded','emp_stat_Disabled', 'emp_stat_Employed', \n",
    "                       'emp_stat_Medical Leave', 'emp_stat_Retired', 'emp_stat_Unemployed', 'm_stat_Divorced',\n",
    "                       'm_stat_Married', 'm_stat_Single', 'p_type_Corporate Auto','p_type_Personal Auto',\n",
    "                       'p_type_Special Auto', 'claim_rsn_Collision', 'claim_rsn_Hail', 'claim_rsn_Other', \n",
    "                       'claim_rsn_Scratch/Dent','s_chnl_Agent', 's_chnl_Branch', 's_chnl_Call Center', 's_chnl_Web',\n",
    "                       'veh_cls_Four-Door Car', 'veh_cls_Luxury Car', 'veh_cls_Luxury SUV', 'veh_cls_SUV', \n",
    "                       'veh_cls_Sports Car', 'veh_cls_Two-Door Car']]\n",
    "\n",
    "df_autoclaims_tgt = df_autoclaims_encoded.loc[:, 'Location_Code'].values.astype('object')\n",
    "\n",
    "print('df_autoclaims_data datatype = {0} and df_autoclaims_tgt datatype = {1}'.format(type(df_autoclaims_data), \n",
    "                                                                                 type(df_autoclaims_tgt)))"
   ]
  },
  {
   "cell_type": "code",
   "execution_count": 36,
   "metadata": {},
   "outputs": [
    {
     "name": "stdout",
     "output_type": "stream",
     "text": [
      "Training Data Shape: X - (6393, 38), Y-(6393,) \n",
      " Testing Data Shape: X - (2741, 38), Y - (2741,)\n"
     ]
    }
   ],
   "source": [
    "from sklearn.model_selection import train_test_split\n",
    "\n",
    "# Split-Out validation dataset, 70% to train, 30% to validate/test\n",
    "X_train, X_test, y_train, y_test = train_test_split(df_autoclaims_data, \n",
    "                                                    df_autoclaims_tgt, \n",
    "                                                    test_size=0.3, \n",
    "                                                    random_state = 42,\n",
    "                                                    stratify=df_autoclaims_tgt)\n",
    "\n",
    "print('Training Data Shape: X - {0}, Y-{1} \\n Testing Data Shape: X - {2}, Y - {3}'.format(X_train.shape,\n",
    "                                                                                          y_train.shape,\n",
    "                                                                                          X_test.shape,\n",
    "                                                                                          y_test.shape))"
   ]
  },
  {
   "cell_type": "markdown",
   "metadata": {},
   "source": [
    "We don’t know which algorithms would be good on this problem or what configurations to use. We get an idea from the plots that some of the classes are partially linearly separable in some dimensions, so we are expecting generally good results. So lets evaluate a mix of linear and non-linear algorithms."
   ]
  },
  {
   "cell_type": "code",
   "execution_count": 59,
   "metadata": {},
   "outputs": [],
   "source": [
    "import matplotlib.pyplot as plt\n",
    "from pprint import pprint \n",
    "from sklearn.linear_model import LogisticRegression\n",
    "from sklearn.neighbors import KNeighborsClassifier\n",
    "from sklearn.svm import SVC, LinearSVC\n",
    "from sklearn.ensemble import RandomForestClassifier\n",
    "from sklearn.metrics import precision_score,recall_score, confusion_matrix, classification_report, accuracy_score, f1_score\n",
    "\n",
    "def get_classifier_accuracies_comparison(X_train, y_train, X_test, y_test):\n",
    "    # Compare accuracy of default classification algorithms.\n",
    "    # Define the classifiers\n",
    "    \n",
    "    #['liblinear', 'newton-cg', 'lbfgs', 'sag', 'saga']\n",
    "    classifiers = {'Logistic Regression':LogisticRegression(multi_class='multinomial', solver = 'saga'), \n",
    "                   'Random Forest': RandomForestClassifier(n_jobs=2, random_state=0, n_estimators=100),\n",
    "                   'SVM (Linear)':LinearSVC(dual=False), \n",
    "                   'SVM':SVC(gamma='auto'), \n",
    "                   'KNeighbors':KNeighborsClassifier(3)\n",
    "                  }\n",
    "\n",
    "    classifiers_accuracy = {}\n",
    "\n",
    "    \n",
    "    # Fit the classifiers\n",
    "    for label, c in classifiers.items():\n",
    "        c.fit(X_train, y_train)\n",
    "        y_pred = c.predict(X_test)\n",
    "        \n",
    "        # how did our model perform?\n",
    "        count_misclassified = (y_test != y_pred).sum()\n",
    "        print('[{0}] Misclassified samples = {1}'.format(label, count_misclassified))\n",
    "        \n",
    "        accuracy_score = c.score(X_test, y_test)\n",
    "        classifiers_accuracy.update( {label:accuracy_score} )\n",
    "        print(\"[{0}] accuracy = {1} %\\n\".format(label, (round(accuracy_score,4) * 100)))\n",
    "        \n",
    "\n",
    "\n",
    "    return classifiers_accuracy"
   ]
  },
  {
   "cell_type": "code",
   "execution_count": 60,
   "metadata": {},
   "outputs": [
    {
     "name": "stderr",
     "output_type": "stream",
     "text": [
      "C:\\Users\\jejohn\\AppData\\Local\\Continuum\\anaconda3\\lib\\site-packages\\sklearn\\linear_model\\sag.py:326: ConvergenceWarning: The max_iter was reached which means the coef_ did not converge\n",
      "  \"the coef_ did not converge\", ConvergenceWarning)\n"
     ]
    },
    {
     "name": "stdout",
     "output_type": "stream",
     "text": [
      "[Logistic Regression] Misclassified samples = 564\n",
      "[Logistic Regression] accuracy = 79.42 %\n",
      "\n",
      "[Random Forest] Misclassified samples = 162\n",
      "[Random Forest] accuracy = 94.08999999999999 %\n",
      "\n",
      "[SVM (Linear)] Misclassified samples = 60\n",
      "[SVM (Linear)] accuracy = 97.81 %\n",
      "\n",
      "[SVM] Misclassified samples = 912\n",
      "[SVM] accuracy = 66.73 %\n",
      "\n",
      "[KNeighbors] Misclassified samples = 653\n",
      "[KNeighbors] accuracy = 76.18 %\n",
      "\n"
     ]
    }
   ],
   "source": [
    "classifes_compare = get_classifier_accuracies_comparison(X_train, y_train, X_test, y_test)"
   ]
  },
  {
   "cell_type": "markdown",
   "metadata": {},
   "source": [
    "# Model Selection"
   ]
  },
  {
   "cell_type": "markdown",
   "metadata": {},
   "source": [
    "Now let's compare the accuracy of each model to select our best model:"
   ]
  },
  {
   "cell_type": "code",
   "execution_count": 61,
   "metadata": {},
   "outputs": [
    {
     "data": {
      "image/png": "[encoded data removed]",
      "text/plain": [
       "<Figure size 432x288 with 1 Axes>"
      ]
     },
     "metadata": {
      "needs_background": "light"
     },
     "output_type": "display_data"
    },
    {
     "name": "stdout",
     "output_type": "stream",
     "text": [
      "{'KNeighbors': 0.7617657789128055,\n",
      " 'Logistic Regression': 0.79423568040861,\n",
      " 'Random Forest': 0.9408974826705582,\n",
      " 'SVM': 0.6672747172564757,\n",
      " 'SVM (Linear)': 0.9781101787668735}\n"
     ]
    }
   ],
   "source": [
    "plt.bar(range(len(classifes_compare)), list(classifes_compare.values()))\n",
    "plt.xticks(range(len(classifes_compare)), list(classifes_compare.keys()))\n",
    "plt.ylabel('Classifier Accuracy Score (%)')\n",
    "plt.xlabel('Classifier')\n",
    "plt.title('Classification Algorithm Accuracy Comparison')\n",
    "plt.show()\n",
    "    \n",
    "pprint(classifes_compare)"
   ]
  },
  {
   "cell_type": "markdown",
   "metadata": {},
   "source": [
    "## Make Predictions\n",
    "The Linear SVC algorithm was the most accurate with the least misses that we tested. Now we want to get an idea of the accuracy of the model with out test dataset. To do this we wll check the accuracy again, as well as provide a classification report and confusion matrix. The confusion matrix provides an indication of the three errors made. The classification report provides a breakdown of each class by precision, recall, f1-score and support showing excellent results."
   ]
  },
  {
   "cell_type": "code",
   "execution_count": 62,
   "metadata": {},
   "outputs": [
    {
     "name": "stdout",
     "output_type": "stream",
     "text": [
      "[LinearSVC] Misclassified samples = 60\n",
      "[LinearSVC] accuracy = 97.81 %\n",
      "\n",
      "\n",
      "Classification Report:\n",
      "             precision    recall  f1-score   support\n",
      "\n",
      "      Rural       0.97      1.00      0.98       532\n",
      "   Suburban       0.98      1.00      0.99      1734\n",
      "      Urban       1.00      0.87      0.93       475\n",
      "\n",
      "avg / total       0.98      0.98      0.98      2741\n",
      "\n",
      "\n",
      "\n",
      "Confusion Matrix:\n",
      "[[ 532    0    0]\n",
      " [   0 1734    0]\n",
      " [  19   41  415]]\n"
     ]
    }
   ],
   "source": [
    "c = LinearSVC(dual=False)\n",
    "c.fit(X_train, y_train)\n",
    "y_pred = c.predict(X_test)\n",
    "        \n",
    "# how did our model perform?\n",
    "count_misclassified = (y_test != y_pred).sum()\n",
    "print('[LinearSVC] Misclassified samples = {0}'.format( count_misclassified))\n",
    "accuracy_score = c.score(X_test, y_test)\n",
    "print(\"[LinearSVC] accuracy = {0} %\".format((round(accuracy_score,4) * 100)))\n",
    "\n",
    "#print('\\n\\n')\n",
    "#print(\"[LinearSVC] F1 Score = {0}\".format(round(f1_score(y_test, y_pred, average=\"macro\"), 4)))\n",
    "#print(\"[LinearSVC] Percision Score = {0}\".format(round(precision_score(y_test, y_pred, average=\"macro\"),4)))\n",
    "#print(\"[LinearSVC] Recall Score = {0}\".format(round(recall_score(y_test, y_pred, average=\"macro\"),4))) \n",
    "\n",
    "print('\\n\\nClassification Report:')\n",
    "print(classification_report(y_test, y_pred))\n",
    "\n",
    "print('\\n\\nConfusion Matrix:')\n",
    "print(confusion_matrix(y_test, y_pred))"
   ]
  },
  {
   "cell_type": "code",
   "execution_count": 63,
   "metadata": {},
   "outputs": [
    {
     "data": {
      "image/png": "[encoded data removed]",
      "text/plain": [
       "<Figure size 792x432 with 1 Axes>"
      ]
     },
     "metadata": {
      "needs_background": "light"
     },
     "output_type": "display_data"
    }
   ],
   "source": [
    "coeff = list(c.coef_[0])\n",
    "labels = list(X_train.columns)\n",
    "features = pd.DataFrame()\n",
    "features['Features'] = labels\n",
    "features['importance'] = coeff\n",
    "features.sort_values(by=['importance'], ascending=True, inplace=True)\n",
    "features['positive'] = features['importance'] > 0\n",
    "features.set_index('Features', inplace=True)\n",
    "features.importance.plot(kind='barh', figsize=(11, 6),color = features.positive.map({True: 'blue', False: 'red'}))\n",
    "plt.title('Linear SVC Feature Importance')\n",
    "plt.xlabel('Importance')\n",
    "plt.show()"
   ]
  }
 ],
 "metadata": {
  "kernelspec": {
   "display_name": "Python 3",
   "language": "python",
   "name": "python3"
  },
  "language_info": {
   "codemirror_mode": {
    "name": "ipython",
    "version": 3
   },
   "file_extension": ".py",
   "mimetype": "text/x-python",
   "name": "python",
   "nbconvert_exporter": "python",
   "pygments_lexer": "ipython3",
   "version": "3.7.0"
  }
 },
 "nbformat": 4,
 "nbformat_minor": 2
}
